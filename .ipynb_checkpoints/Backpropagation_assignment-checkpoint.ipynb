{
 "cells": [
  {
   "cell_type": "markdown",
   "metadata": {
    "id": "y871RZtRhCEH"
   },
   "source": [
    "# <font color='red'>BackPropagation</font>"
   ]
  },
  {
   "cell_type": "markdown",
   "metadata": {
    "id": "LqePYi-4mFvK"
   },
   "source": [
    "**There will be some functions that start with the word \"grader\" ex: grader_sigmoid(), grader_forwardprop(), grader_backprop() etc, you should not change those function definition.<br><br>Every Grader function has to return True.**"
   ]
  },
  {
   "cell_type": "markdown",
   "metadata": {
    "id": "0huUQ0byiI0I"
   },
   "source": [
    "## <font color='red'>Loading data </font>"
   ]
  },
  {
   "cell_type": "code",
   "execution_count": 1,
   "metadata": {
    "colab": {
     "base_uri": "https://localhost:8080/",
     "height": 50
    },
    "id": "1hSje5CBgcUb",
    "outputId": "66535fa5-f8a2-4792-bc62-7842c93480f7"
   },
   "outputs": [
    {
     "name": "stdout",
     "output_type": "stream",
     "text": [
      "(506, 6)\n",
      "(506, 5) (506,)\n"
     ]
    }
   ],
   "source": [
    "import pickle\n",
    "import numpy as np\n",
    "from tqdm import tqdm\n",
    "import matplotlib.pyplot as plt\n",
    "\n",
    "with open('data.pkl', 'rb') as f:\n",
    "    data = pickle.load(f)\n",
    "print(data.shape)\n",
    "X = data[:, :5]\n",
    "y = data[:, -1]\n",
    "print(X.shape, y.shape)"
   ]
  },
  {
   "cell_type": "markdown",
   "metadata": {
    "id": "5JL-0soQistC"
   },
   "source": [
    "# <font color='red'>Computational graph</font>"
   ]
  },
  {
   "cell_type": "markdown",
   "metadata": {
    "id": "nREnTTJ3i0Vd"
   },
   "source": [
    "<img src='https://i.imgur.com/seSGbNS.png'>"
   ]
  },
  {
   "cell_type": "markdown",
   "metadata": {
    "id": "DSPX_H_4i_HT"
   },
   "source": [
    "\n",
    "*  **If you observe the graph, we are having input features [f1, f2, f3, f4, f5] and 9 weights [w1, w2, w3, w4, w5, w6,    w7, w8, w9]**.<br><br>\n",
    "*  **The final output of this graph is a value L which is computed as (Y-Y')^2** "
   ]
  },
  {
   "cell_type": "markdown",
   "metadata": {
    "id": "D54eDEv6jkO4"
   },
   "source": [
    "# <font color='red'>Task 1: Implementing backpropagation and Gradient checking </font>"
   ]
  },
  {
   "cell_type": "markdown",
   "metadata": {
    "id": "qocI1Vzqkod9"
   },
   "source": [
    "<font color='blue'><b>Check this video for better understanding of the computational graphs and back propagation</font>"
   ]
  },
  {
   "cell_type": "code",
   "execution_count": 2,
   "metadata": {
    "colab": {
     "base_uri": "https://localhost:8080/",
     "height": 521
    },
    "id": "Wb5WMdwJinlX",
    "outputId": "b10489ec-890a-445a-c6a4-a3e0ea2a66be"
   },
   "outputs": [
    {
     "data": {
      "image/jpeg": "[encoded data removed]",
      "text/html": [
       "\n",
       "        <iframe\n",
       "            width=\"1000\"\n",
       "            height=\"500\"\n",
       "            src=\"https://www.youtube.com/embed/i94OvYb6noo\"\n",
       "            frameborder=\"0\"\n",
       "            allowfullscreen\n",
       "        ></iframe>\n",
       "        "
      ],
      "text/plain": [
       "<IPython.lib.display.YouTubeVideo at 0x1be953ac250>"
      ]
     },
     "execution_count": 2,
     "metadata": {},
     "output_type": "execute_result"
    }
   ],
   "source": [
    "from IPython.display import YouTubeVideo\n",
    "YouTubeVideo('i94OvYb6noo',width=\"1000\",height=\"500\")"
   ]
  },
  {
   "cell_type": "markdown",
   "metadata": {
    "id": "2jecTyVRlh-6"
   },
   "source": [
    "\n",
    "*  <b>Write two functions<br>\n",
    "    *  Forward propagation</b>(Write your code in<font color='blue'> def forward_propagation()</b></font>)<br><br>\n",
    "    For easy debugging, we will break the computational graph into 3 parts.\n",
    "\n",
    "    <font color='green'><b>Part 1</b></font></b>\n",
    "    <img src='https://i.imgur.com/0xUaxy6.png'><br><br>\n",
    "    <font color='green'><b>Part 2</b></font></b><br>\n",
    "    <img src='https://i.imgur.com/J29pAJL.png'><br><br>\n",
    "    <font color='green'><b>Part 3</b></font></b>\n",
    "    <img src='https://i.imgur.com/vMyCsd9.png'>\n",
    "\n",
    "    <pre>\n",
    "    <font color='green'>\n",
    "def forward_propagation(X, y, W):\n",
    "        <font color='grey'>\n",
    "        # X: input data point, note that in this assignment you are having 5-d data points\n",
    "        # y: output varible\n",
    "        # W: weight array, its of length 9, W[0] corresponds to w1 in graph, W[1] corresponds to w2 in graph, <br>         ..., W[8] corresponds to w9 in graph.  \n",
    "        # you have to return the following variables\n",
    "        # exp= part1 (compute the forward propagation until exp and then store the values in exp)\n",
    "        # tanh =part2(compute the forward propagation until tanh and then store the values in tanh)\n",
    "        # sig = part3(compute the forward propagation until sigmoid and then store the values in sig)\n",
    "        # now compute remaining values from computional graph and get y'\n",
    "        # write code to compute the value of L=(y-y')^2\n",
    "        # compute derivative of L  w.r.to Y' and store it in dl\n",
    "        # Create a dictionary to store all the intermediate values\n",
    "        # store L, exp,tanh,sig,dl variables\n",
    "        </font>\n",
    "        return (dictionary, which you might need to use for back propagation)\n",
    "        <font color='grey'>\n",
    "        </font>\n",
    "</font>\n",
    "</pre>\n",
    "    *  <b>Backward propagation</b>(Write your code in<font color='blue'> def backward_propagation()</b></font>)\n",
    "    </b>\n",
    "    <pre>\n",
    "    <font color='green'>\n",
    "    def backward_propagation(L, W,dictionary):\n",
    "        <font color='grey'>\n",
    "        # L: the loss we calculated for the current point\n",
    "        # dictionary: the outputs of the forward_propagation() function\n",
    "        # write code to compute the gradients of each weight [w1,w2,w3,...,w9]\n",
    "        # Hint: you can use dict type to store the required variables \n",
    "        # return dW, dW is a dictionary with gradients of all the weights\n",
    "        </font>\n",
    "        return dW\n",
    "        </font>\n",
    "</font>\n",
    "</pre>"
   ]
  },
  {
   "cell_type": "markdown",
   "metadata": {
    "id": "STS4NrQQc6OH"
   },
   "source": [
    " ## <font color='red'>Gradient clipping</font>"
   ]
  },
  {
   "cell_type": "markdown",
   "metadata": {
    "id": "XY7ivRNzdPok"
   },
   "source": [
    "<b> Check this  <a href='https://towardsdatascience.com/how-to-debug-a-neural-network-with-gradient-checking-41deec0357a9'>blog link</a> for more details on Gradient clipping"
   ]
  },
  {
   "cell_type": "markdown",
   "metadata": {
    "id": "BrsfpDoidtZ5"
   },
   "source": [
    " we know that the derivative of any function is\n",
    " \n",
    " $$\\lim_{\\epsilon\\to0}\\frac{f(x+\\epsilon)-f(x-\\epsilon)}{2\\epsilon}$$\n"
   ]
  },
  {
   "cell_type": "markdown",
   "metadata": {
    "id": "vUcmt0kPd02f"
   },
   "source": [
    "*  The definition above can be used as a numerical approximation of the derivative. Taking an epsilon small enough, the calculated approximation will have an error in the range of epsilon squared. \n",
    "\n",
    "*  In other words, if epsilon is 0.001, the approximation will be off by 0.00001.\n",
    "\n",
    "Therefore, we can use this to approximate the gradient, and in turn make sure that backpropagation is implemented properly. This forms the basis of <b>gradient checking!</b>"
   ]
  },
  {
   "cell_type": "markdown",
   "metadata": {
    "id": "pFSu16KCeU0x"
   },
   "source": [
    "## <Font color='blue'>Gradient checking example</font>"
   ]
  },
  {
   "cell_type": "markdown",
   "metadata": {
    "id": "Gz0mmT_xecfC"
   },
   "source": [
    "<font >\n",
    "lets understand the concept with a simple example:\n",
    "$f(w1,w2,x1,x2)=w_{1}^{2} . x_{1} + w_{2} . x_{2}$ \n",
    "\n",
    "from the above function , lets assume $w_{1}=1$, $w_{2}=2$, $x_{1}=3$, $x_{2}=4$ the gradient of $f$ w.r.t $w_{1}$ is\n",
    "\n",
    "\\begin{array} {lcl}\n",
    "\\frac{df}{dw_{1}} = dw_{1} &=&2.w_{1}.x_{1} \\\\& = &2.1.3\\\\& = &6\n",
    "\\end{array}\n",
    "\n",
    "\n",
    "let calculate the aproximate gradient of $w_{1}$ as mentinoned in the above formula and considering $\\epsilon=0.0001$\n",
    "\n",
    "\\begin{array} {lcl}\n",
    "dw_1^{approx} & = & \\frac{f(w1+\\epsilon,w2,x1,x2)-f(w1-\\epsilon,w2,x1,x2)}{2\\epsilon} \\\\ & = & \\frac{((1+0.0001)^{2} . 3 + 2 . 4) - ((1-0.0001)^{2} . 3 + 2 . 4)}{2\\epsilon} \\\\ & = & \\frac{(1.00020001 . 3 + 2 . 4) - (0.99980001. 3 + 2 . 4)}{2*0.0001} \\\\ & = & \\frac{(11.00060003) - (10.99940003)}{0.0002}\\\\ & = & 5.99999999999\n",
    "\\end{array}\n",
    "\n",
    "Then, we apply the following formula for gradient check: <i>gradient_check</i> = \n",
    "$\\frac{\\left\\Vert\\left (dW-dW^{approx}\\rm\\right) \\right\\Vert_2}{\\left\\Vert\\left (dW\\rm\\right) \\right\\Vert_2+\\left\\Vert\\left (dW^{approx}\\rm\\right) \\right\\Vert_2}$\n",
    "\n",
    "The equation above is basically the Euclidean distance normalized by the sum of the norm of the vectors. We use normalization in case that one of the vectors is very small.\n",
    "As a value for epsilon, we usually opt for 1e-7. Therefore, if gradient check return a value less than 1e-7, then it means that backpropagation was implemented correctly. Otherwise, there is potentially a mistake in your implementation. If the value exceeds 1e-3, then you are sure that the code is not correct.\n",
    "\n",
    "in our example: <i>gradient_check</i> $ = \\frac{(6 - 5.999999999994898)}{(6 + 5.999999999994898)} = 4.2514140356330737e^{-13}$\n",
    "\n",
    "you can mathamatically derive the same thing like this\n",
    "\n",
    "\\begin{array} {lcl}\n",
    "dw_1^{approx} & = & \\frac{f(w1+\\epsilon,w2,x1,x2)-f(w1-\\epsilon,w2,x1,x2)}{2\\epsilon} \\\\ & = & \\frac{((w_{1}+\\epsilon)^{2} . x_{1} + w_{2} . x_{2}) - ((w_{1}-\\epsilon)^{2} . x_{1} + w_{2} . x_{2})}{2\\epsilon} \\\\ & = & \\frac{4. \\epsilon.w_{1}. x_{1}}{2\\epsilon} \\\\ & = &  2.w_{1}.x_{1}\n",
    "\\end{array}\n"
   ]
  },
  {
   "cell_type": "markdown",
   "metadata": {
    "id": "f1BFQQaCermK"
   },
   "source": [
    "## <font color='red'> Implement Gradient checking </font> <br>\n",
    " (Write your code in <font color='blue'> def gradient_checking()</font>)"
   ]
  },
  {
   "cell_type": "markdown",
   "metadata": {
    "id": "GqpfA3AqfJba"
   },
   "source": [
    "**Algorithm** \n",
    "\n"
   ]
  },
  {
   "cell_type": "markdown",
   "metadata": {
    "id": "FL39KeRFfNoD"
   },
   "source": [
    "<pre>\n",
    "<font color='darkblue'>\n",
    "W = initilize_randomly\n",
    "def gradient_checking(data_point, W):<font color='grey'>\n",
    "    # compute the L value using forward_propagation()\n",
    "    # compute the gradients of W using backword_propagation()</font>\n",
    "    approx_gradients = []\n",
    "    for each wi weight value in W:<font color='grey'>\n",
    "        # add a small value to weight wi, and then find the values of L with the updated weights\n",
    "        # subtract a small value to weight wi, and then find the values of L with the updated weights\n",
    "        # compute the approximation gradients of weight wi</font>\n",
    "        approx_gradients.append(approximation gradients of weight wi)<font color='grey'>\n",
    "    # compare the gradient of weights W from backword_propagation() with the aproximation gradients of weights with <br>  gradient_check formula</font>\n",
    "    return gradient_check</font>\n",
    "<b>NOTE: you can do sanity check by checking all the return values of gradient_checking(),<br> they have to be zero. if not you have bug in your code\n",
    "</pre></b>"
   ]
  },
  {
   "cell_type": "markdown",
   "metadata": {
    "id": "0ufbFBFfhgL0"
   },
   "source": [
    "# <font color='red'> Task 2 : Optimizers </font>"
   ]
  },
  {
   "cell_type": "markdown",
   "metadata": {
    "id": "7zt05soYh1RM"
   },
   "source": [
    "* As a part of this task, you will be implementing 3 type of optimizers(methods to update weight)\n",
    "* Use the same computational graph that was mentioned above to do this task\n",
    "* Initilze the 9 weights from normal distribution with mean=0 and std=0.01"
   ]
  },
  {
   "cell_type": "markdown",
   "metadata": {
    "id": "CAyi7aSAicbr"
   },
   "source": [
    "**Check below video and <a href='https://cs231n.github.io/neural-networks-3/'>this</a> blog**"
   ]
  },
  {
   "cell_type": "code",
   "execution_count": 3,
   "metadata": {
    "colab": {
     "base_uri": "https://localhost:8080/",
     "height": 521
    },
    "id": "ZogcxiegkQpz",
    "outputId": "9b4e0235-e638-4f20-d9c1-ac3ca4fb3ce8"
   },
   "outputs": [
    {
     "data": {
      "image/jpeg": "[encoded data removed]",
      "text/html": [
       "\n",
       "        <iframe\n",
       "            width=\"1000\"\n",
       "            height=\"500\"\n",
       "            src=\"https://www.youtube.com/embed/gYpoJMlgyXA\"\n",
       "            frameborder=\"0\"\n",
       "            allowfullscreen\n",
       "        ></iframe>\n",
       "        "
      ],
      "text/plain": [
       "<IPython.lib.display.YouTubeVideo at 0x1be97471d60>"
      ]
     },
     "execution_count": 3,
     "metadata": {},
     "output_type": "execute_result"
    }
   ],
   "source": [
    "from IPython.display import YouTubeVideo\n",
    "YouTubeVideo('gYpoJMlgyXA',width=\"1000\",height=\"500\")"
   ]
  },
  {
   "cell_type": "markdown",
   "metadata": {
    "id": "jmefh7ktjbaR"
   },
   "source": [
    "<font color='blue'><b>Algorithm</b>"
   ]
  },
  {
   "cell_type": "markdown",
   "metadata": {
    "id": "nAc4NudkjdNa"
   },
   "source": [
    "<pre>\n",
    "    for each epoch(1-100):\n",
    "        for each data point in your data:\n",
    "            using the functions forward_propagation() and backword_propagation() compute the gradients of weights\n",
    "            update the weigts with help of gradients  ex: w1 = w1-learning_rate*dw1\n",
    "</pre>"
   ]
  },
  {
   "cell_type": "markdown",
   "metadata": {
    "id": "_fdmPNqtjm3X"
   },
   "source": [
    "## <font color='red'> Implement below tasks</b>"
   ]
  },
  {
   "cell_type": "markdown",
   "metadata": {
    "id": "Ll9-CRsLjx_D"
   },
   "source": [
    "\n",
    "*  <b>Task 2.1</b>: you will be implementing the above algorithm with <b>Vanilla update</b> of weights<br><br>\n",
    "*  <b>Task 2.2</b>: you will be implementing the above algorithm with <b>Momentum update</b> of weights<br><br>\n",
    "*  <b>Task 2.3</b>: you will be implementing the above algorithm with <b>Adam update</b> of weights\n"
   ]
  },
  {
   "cell_type": "markdown",
   "metadata": {
    "id": "atp082demrUR"
   },
   "source": [
    "**Note : If you get any assertion error while running grader functions, please print the variables in grader functions and check which variable is returning False .Recheck your logic for that variable .**"
   ]
  },
  {
   "cell_type": "markdown",
   "metadata": {
    "id": "phG2WDkjkuIL"
   },
   "source": [
    "<br>\n",
    "<br>\n",
    "<br>"
   ]
  },
  {
   "cell_type": "markdown",
   "metadata": {
    "id": "CBaPzHP63grG"
   },
   "source": [
    "# <font color='red'>Task 1 </font>"
   ]
  },
  {
   "cell_type": "markdown",
   "metadata": {
    "id": "QfmV3FUgSrBo"
   },
   "source": [
    "## <font color='blue'>Forward propagation </font>"
   ]
  },
  {
   "cell_type": "code",
   "execution_count": 4,
   "metadata": {
    "id": "5_pBivcY30qf"
   },
   "outputs": [],
   "source": [
    "import math\n",
    "import numpy as np\n",
    "def sigmoid(z):\n",
    "    '''In this function, we will compute the sigmoid(z)'''\n",
    "    # we can use this function in forward and backward propagation\n",
    "\n",
    "    return 1/(1+math.exp(-z))\n",
    "    \n",
    "def forward_propagation(x, y, w):\n",
    "        '''In this function, we will compute the forward propagation '''\n",
    "        # X: input data point, note that in this assignment you are having 5-d data points\n",
    "        # y: output varible\n",
    "        # W: weight array, its of length 9, W[0] corresponds to w1 in graph, W[1] corresponds to w2 in graph,..., W[8] corresponds to w9 in graph.  \n",
    "        # you have to return the following variables\n",
    "        # exp= part1 (compute the forward propagation until exp and then store the values in exp)\n",
    "        # tanh =part2(compute the forward propagation until tanh and then store the values in tanh)\n",
    "        # sig = part3(compute the forward propagation until sigmoid and then store the values in sig)\n",
    "        # now compute remaining values from computional graph and get y'\n",
    "        # write code to compute the value of L=(y-y')^2\n",
    "        # compute derivative of L  w.r.to Y' and store it in dl\n",
    "        # Create a dictionary to store all the intermediate values\n",
    "        # store L, exp,tanh,sig variables\n",
    "\n",
    "        exp = np.exp((w[0]*x[0]+w[1]*x[1])*(w[0]*x[0]+w[1]*x[1])+w[5])\n",
    "        tanh = np.tanh(exp+w[6])\n",
    "        sig = sigmoid((np.sin(w[2]*x[2])*((w[3]*x[3])+(w[4]*x[4])))+w[7])\n",
    "        \n",
    "        y_dash = sig*w[8]+tanh\n",
    "        \n",
    "        loss = (y-y_dash)**2\n",
    "        \n",
    "        dl_dy_dash = -2*(y-y_dash)\n",
    "\n",
    "        dct = {'exp':exp,'tanh':tanh,'sigmoid':sig,'y_pred':y_dash,'loss':loss,'dy_pr':dl_dy_dash}\n",
    "        \n",
    "        \n",
    "        return dct"
   ]
  },
  {
   "cell_type": "markdown",
   "metadata": {
    "id": "z-z1rGKqCHNN"
   },
   "source": [
    "<font color='cyan'>Grader function - 1</font>"
   ]
  },
  {
   "cell_type": "code",
   "execution_count": 5,
   "metadata": {
    "id": "6ZxFF00zBmx1"
   },
   "outputs": [
    {
     "data": {
      "text/plain": [
       "True"
      ]
     },
     "execution_count": 5,
     "metadata": {},
     "output_type": "execute_result"
    }
   ],
   "source": [
    "def grader_sigmoid(z):\n",
    "  val=sigmoid(z)\n",
    "  assert(val==0.8807970779778823)\n",
    "  return True\n",
    "grader_sigmoid(2)"
   ]
  },
  {
   "cell_type": "markdown",
   "metadata": {
    "id": "KgAUXq_aChey"
   },
   "source": [
    "<font color='cyan'>Grader function - 2 </font>"
   ]
  },
  {
   "cell_type": "code",
   "execution_count": 6,
   "metadata": {
    "id": "3uzsUqcjCorN"
   },
   "outputs": [
    {
     "data": {
      "text/plain": [
       "True"
      ]
     },
     "execution_count": 6,
     "metadata": {},
     "output_type": "execute_result"
    }
   ],
   "source": [
    "def grader_forwardprop(data):\n",
    "    dl = (data['dy_pr']==-1.9285278284819143)\n",
    "    loss=(data['loss']==0.9298048963072919)\n",
    "    part1=(data['exp']==1.1272967040973583)\n",
    "    part2=(data['tanh']==0.8417934192562146)\n",
    "    part3=(data['sigmoid']==0.5279179387419721)\n",
    "    assert(dl and loss and part1 and part2 and part3)\n",
    "    return True\n",
    "w=np.ones(9)*0.1\n",
    "d1=forward_propagation(X[0],y[0],w)\n",
    "grader_forwardprop(d1)"
   ]
  },
  {
   "cell_type": "markdown",
   "metadata": {
    "id": "obOaAqj3Sxvb"
   },
   "source": [
    "## <font color='blue'>Backward propagation</font>"
   ]
  },
  {
   "cell_type": "code",
   "execution_count": 7,
   "metadata": {
    "id": "dS49ykcOGhIv"
   },
   "outputs": [],
   "source": [
    "def backward_propagation(x,W,dct):\n",
    "    '''In this function, we will compute the backward propagation '''\n",
    "    # L: the loss we calculated for the current point\n",
    "    # dictionary: the outputs of the forward_propagation() function\n",
    "    # write code to compute the gradients of each weight [w1,w2,w3,...,w9]\n",
    "    # Hint: you can use dict type to store the required variables \n",
    "    # dw1 = # in dw1 compute derivative of L w.r.to w1\n",
    "    # dw2 = # in dw2 compute derivative of L w.r.to w2\n",
    "    # dw3 = # in dw3 compute derivative of L w.r.to w3\n",
    "    # dw4 = # in dw4 compute derivative of L w.r.to w4\n",
    "    # dw5 = # in dw5 compute derivative of L w.r.to w5\n",
    "    # dw6 = # in dw6 compute derivative of L w.r.to w6\n",
    "    # dw7 = # in dw7 compute derivative of L w.r.to w7\n",
    "    # dw8 = # in dw8 compute derivative of L w.r.to w8\n",
    "    # dw9 = # in dw9 compute derivative of L w.r.to w9\n",
    "    \n",
    "    dw7 = dct['dy_pr']*(1-np.square(dct['tanh'])) #(dL/dy_dash)*d/dw7(tanh+sigmoid*w9(constant term))\n",
    "    dw6 = dw7*dct['exp']  #(dL/dy_dash)*(d/dw7(tanh+sigmoid*w9(constant term)))*(d/dw6(exp))\n",
    "    dw1 = dw6*(2*((w[0]*x[0])+(w[1]*x[1]))*x[0]) #(dL/dy_dash)*(d/dw7(tanh+sigmoid*w9(constant term)))*(d/dw6(exp))*(d/dw1((w1f1+w2f2)**2))\n",
    "    dw2 = dw6*(2*((w[0]*x[0])+(w[1]*x[1]))*x[1])  ##(dL/dy_dash)*(d/dw7(tanh+sigmoid*w9(constant term)))*(d/dw6(exp))*(d/dw1((w1f1+w2f2)**2))\n",
    "    \n",
    "    dw9 = dct['dy_pr']*dct['sigmoid'] #(dL/dy_dash)*d/dw9(tanh(constant term)+sigmoid*w9)\n",
    "    dw8 = dct['dy_pr']*w[8]*dct['sigmoid']*(1-dct['sigmoid'])  #(dL/dy_dash)*d/dw8(tanh(constant term)+sigmoid*w9)\n",
    "    \n",
    "    dw3 = dw8*np.cos(w[2]*x[2])*x[2]*((w[3]*x[3])+(w[4]*x[4]))  #(dL/dy_dash)*d/dw8(tanh(constant term)+sigmoid*w9)*(d/dw3(sin(w3f3)*(w4f4+w5f5)))\n",
    "    dw4 = dw8*np.sin(w[2]*x[2])*x[3]  #(dL/dy_dash)*d/dw8(tanh(constant term)+sigmoid*w9)*(d/dw4(sin(w3f3)*(w4f4+w5f5)))\n",
    "\n",
    "    dw5 = dw8*np.sin(w[2]*x[2])*x[4]   #(dL/dy_dash)*d/dw8(tanh(constant term)+sigmoid*w9)*(d/dw5(sin(w3f3)*(w4f4+w5f5)))\n",
    "\n",
    "    \n",
    "    dw = {'dw1':dw1,'dw2':dw2,'dw3':dw3,'dw4':dw4,'dw5':dw5,'dw6':dw6,'dw7':dw7,'dw8':dw8,'dw9':dw9}\n",
    "    return dw\n",
    "\n",
    "    # return dW, dW is a dictionary with gradients of all the weights"
   ]
  },
  {
   "cell_type": "markdown",
   "metadata": {
    "id": "2NpZWAVlS4jb"
   },
   "source": [
    "<font color='cyan'>Grader function - 3 </font>"
   ]
  },
  {
   "cell_type": "code",
   "execution_count": 8,
   "metadata": {
    "id": "1a8Kll2xGhMJ"
   },
   "outputs": [
    {
     "data": {
      "text/plain": [
       "True"
      ]
     },
     "execution_count": 8,
     "metadata": {},
     "output_type": "execute_result"
    }
   ],
   "source": [
    "def grader_backprop(data):\n",
    "    dw1=(data['dw1']==-0.22973323498702003)\n",
    "    dw2=(data['dw2']==-0.021407614717752925)\n",
    "    dw3=(data['dw3']==-0.005625405580266319)\n",
    "    dw4=(data['dw4']==-0.004657941222712423)\n",
    "    dw5=(data['dw5']==-0.0010077228498574246)\n",
    "    dw6=(data['dw6']==-0.6334751873437471)\n",
    "    dw7=(data['dw7']==-0.561941842854033)\n",
    "    dw8=(data['dw8']==-0.04806288407316516)\n",
    "    dw9=(data['dw9']==-1.0181044360187037)\n",
    "    assert(dw1 and dw2 and dw3 and dw4 and dw5 and dw6 and dw7 and dw8 and dw9)\n",
    "    return True \n",
    "w=np.ones(9)*0.1\n",
    "d1=forward_propagation(X[0],y[0],w)\n",
    "d1=backward_propagation(X[0],w,d1)\n",
    "grader_backprop(d1)"
   ]
  },
  {
   "cell_type": "markdown",
   "metadata": {
    "id": "1rfHHXZwgwo6"
   },
   "source": [
    "## <font color='blue'> Implement gradient checking</font>"
   ]
  },
  {
   "cell_type": "code",
   "execution_count": 9,
   "metadata": {
    "id": "oh8wj1yjGhOi"
   },
   "outputs": [],
   "source": [
    "import copy\n",
    "W = np.ones(9)*0.1\n",
    "def gradient_checking(data_point, W):\n",
    "    # compute the L value using forward_propagation()\n",
    "    # compute the gradients of W using backword_propagation()\n",
    "    forward = forward_propagation(data_point[:5],data_point[-1],W)\n",
    "    backword = backward_propagation(data_point[:5],W,forward)\n",
    "    #print(backword.values())\n",
    "    backword_grad_values_list=list(backword.values())\n",
    "    print(backword_grad_values_list)\n",
    "    \n",
    "    eps = 0.0001\n",
    "    approx_gradients = []\n",
    "    for  i  in range(len(W)):\n",
    "        # add a small value to weight wi, and then find the values of L with the updated weights\n",
    "        # subtract a small value to weight wi, and then find the values of L with the updated weights\n",
    "        # compute the approximation gradients of weight wi\n",
    "        w_add = copy.deepcopy(W)\n",
    "        w_add[i]+=eps       # Adding epsilon value\n",
    "        forw_add_dct = forward_propagation(data_point[:5],data_point[-1],w_add)    #finding loss by adding epsilon to wi\n",
    "        forw_add = forw_add_dct['loss']\n",
    "        \n",
    "        w_subt = copy.deepcopy(W)\n",
    "        w_subt[i]-=eps\n",
    "        forw_subt_dct = forward_propagation(data_point[:5],data_point[-1],w_subt)   #finding loss by substracting epsilon to wi\n",
    "        forw_subt = forw_subt_dct['loss']\n",
    "        \n",
    "        approx_gradients.append((forw_add-forw_subt)/(2*eps))\n",
    "    \n",
    "    # compare the gradient of weights W from backword_propagation() with the aproximation gradients of weights with gradient_check formula\n",
    "    print(approx_gradients)\n",
    "    gradient_check=np.array(backword_grad_values_list)-np.array(approx_gradients)\n",
    "    denom=np.array(backword_grad_values_list)+np.array(approx_gradients)\n",
    "    return gradient_check/denom"
   ]
  },
  {
   "cell_type": "code",
   "execution_count": 10,
   "metadata": {},
   "outputs": [
    {
     "name": "stdout",
     "output_type": "stream",
     "text": [
      "[-0.22973323498702003, -0.021407614717752925, -0.005625405580266319, -0.004657941222712423, -0.0010077228498574246, -0.6334751873437471, -0.561941842854033, -0.04806288407316516, -1.0181044360187037]\n",
      "[-0.22973323022201786, -0.021407614714252787, -0.0056254055608162545, -0.004657941222729889, -0.0010077228507210378, -0.6334751863795729, -0.5619418463920223, -0.0480628840343611, -1.0181044360180191]\n"
     ]
    },
    {
     "data": {
      "text/plain": [
       "array([ 1.03707289e-08,  8.17498289e-11,  1.72877000e-09, -1.87486944e-12,\n",
       "       -4.28497388e-10,  7.61019693e-10, -3.14800301e-09,  4.03680146e-10,\n",
       "        3.36195135e-13])"
      ]
     },
     "execution_count": 10,
     "metadata": {},
     "output_type": "execute_result"
    }
   ],
   "source": [
    "gradient_checking(data[0],W)"
   ]
  },
  {
   "cell_type": "markdown",
   "metadata": {
    "id": "MhwDSe99kJ32"
   },
   "source": [
    "# <font color='red'>Task 2: Optimizers"
   ]
  },
  {
   "cell_type": "markdown",
   "metadata": {
    "id": "jJzI-vnPk1dB"
   },
   "source": [
    "###<font color='blue'>Algorithm with Vanilla update of weights</font>"
   ]
  },
  {
   "cell_type": "code",
   "execution_count": 11,
   "metadata": {},
   "outputs": [],
   "source": [
    "#W=np.random.normal(0,0.01,9)"
   ]
  },
  {
   "cell_type": "code",
   "execution_count": 12,
   "metadata": {},
   "outputs": [],
   "source": [
    "#W"
   ]
  },
  {
   "cell_type": "code",
   "execution_count": 13,
   "metadata": {},
   "outputs": [],
   "source": [
    "W = np.random.uniform((-np.sqrt(6)/np.sqrt(1+1)),(np.sqrt(6)/np.sqrt(1+1)),9)"
   ]
  },
  {
   "cell_type": "code",
   "execution_count": 77,
   "metadata": {},
   "outputs": [
    {
     "data": {
      "text/plain": [
       "array([-1.40486443, -1.63909279,  1.14880029, -0.94836281,  1.48730153,\n",
       "       -0.09740247, -0.38289065,  1.25134086,  1.39314133])"
      ]
     },
     "execution_count": 77,
     "metadata": {},
     "output_type": "execute_result"
    }
   ],
   "source": [
    "W"
   ]
  },
  {
   "cell_type": "code",
   "execution_count": 79,
   "metadata": {},
   "outputs": [
    {
     "name": "stdout",
     "output_type": "stream",
     "text": [
      "epoch  1 :  0.2159105776630808\n",
      "epoch  2 :  0.1662469541872731\n",
      "epoch  3 :  0.143080692040318\n",
      "epoch  4 :  0.13164944703078493\n",
      "epoch  5 :  0.12578069676029338\n",
      "epoch  6 :  0.12266939624782262\n",
      "epoch  7 :  0.12096372845648083\n",
      "epoch  8 :  0.1199870120751875\n",
      "epoch  9 :  0.11939247726769131\n",
      "epoch  10 :  0.11899988976306927\n",
      "epoch  11 :  0.11871480061818947\n",
      "epoch  12 :  0.11848750486985418\n",
      "epoch  13 :  0.11829181104791618\n",
      "epoch  14 :  0.11811393558505784\n",
      "epoch  15 :  0.11794665245737837\n",
      "epoch  16 :  0.11778619798388457\n",
      "epoch  17 :  0.11763062963397579\n",
      "epoch  18 :  0.11747895550748498\n",
      "epoch  19 :  0.11733067339594991\n",
      "epoch  20 :  0.11718552779848361\n",
      "epoch  21 :  0.11704338289958144\n",
      "epoch  22 :  0.11690415712320373\n",
      "epoch  23 :  0.11676779023949045\n",
      "epoch  24 :  0.11663422754138698\n",
      "epoch  25 :  0.11650341284784453\n"
     ]
    }
   ],
   "source": [
    "W_vanilla=copy.deepcopy(W)\n",
    "lr = 0.001\n",
    "loss_vanilla = []\n",
    "for i in range(25):\n",
    "    for data_point in data:\n",
    "        forward_prop = forward_propagation(data_point[:5],data_point[-1],W_vanilla)\n",
    "        backword_prop = backward_propagation(data_point[:5],W_vanilla,forward_prop)\n",
    "        \n",
    "        #print(backword_prop.values())\n",
    "        #print(backword_prop.keys())\n",
    "        grad_vals=np.array(list(backword_prop.values()))\n",
    "        \n",
    "        W_vanilla=W_vanilla-(grad_vals*lr)\n",
    "    loss_vanilla.append(forward_prop['loss'])\n",
    "    print('epoch ',i+1,': ',forward_prop['loss'])"
   ]
  },
  {
   "cell_type": "markdown",
   "metadata": {
    "id": "UlTLXrvmlR26"
   },
   "source": [
    "<font color='blue'>Plot between epochs and loss</font>"
   ]
  },
  {
   "cell_type": "code",
   "execution_count": 80,
   "metadata": {
    "id": "CjTCVUIoGhTo"
   },
   "outputs": [
    {
     "data": {
      "text/plain": [
       "Text(0, 0.5, 'loss')"
      ]
     },
     "execution_count": 80,
     "metadata": {},
     "output_type": "execute_result"
    },
    {
     "data": {
      "image/png": "[encoded data removed]",
      "text/plain": [
       "<Figure size 432x288 with 1 Axes>"
      ]
     },
     "metadata": {
      "needs_background": "light"
     },
     "output_type": "display_data"
    }
   ],
   "source": [
    "epochs = list(range(25))\n",
    "plt.plot(epochs,loss_vanilla)\n",
    "plt.title('Epochs vs vanilla update loss')\n",
    "plt.xlabel('epochs')\n",
    "plt.ylabel('loss')"
   ]
  },
  {
   "cell_type": "markdown",
   "metadata": {
    "id": "cv_hZFWalS2z"
   },
   "source": [
    "###<font color='blue'>Algorithm with momentum update of weights</font>"
   ]
  },
  {
   "cell_type": "code",
   "execution_count": 81,
   "metadata": {},
   "outputs": [
    {
     "data": {
      "text/plain": [
       "array([-1.40486443, -1.63909279,  1.14880029, -0.94836281,  1.48730153,\n",
       "       -0.09740247, -0.38289065,  1.25134086,  1.39314133])"
      ]
     },
     "execution_count": 81,
     "metadata": {},
     "output_type": "execute_result"
    }
   ],
   "source": [
    "W"
   ]
  },
  {
   "cell_type": "code",
   "execution_count": 82,
   "metadata": {},
   "outputs": [
    {
     "name": "stdout",
     "output_type": "stream",
     "text": [
      "epoch 1  :  0.2095819114293117\n",
      "epoch 2  :  0.16091224274298224\n",
      "epoch 3  :  0.13960357713718607\n",
      "epoch 4  :  0.1296760716099589\n",
      "epoch 5  :  0.12484590024172756\n",
      "epoch 6  :  0.12240510743699855\n",
      "epoch 7  :  0.12111460226688876\n",
      "epoch 8  :  0.12038655744644727\n",
      "epoch 9  :  0.1199362353437416\n",
      "epoch 10  :  0.11962411544336315\n",
      "epoch 11  :  0.11938145143980357\n",
      "epoch 12  :  0.1191743277600163\n",
      "epoch 13  :  0.11898605596773928\n",
      "epoch 14  :  0.11880847943587476\n",
      "epoch 15  :  0.11863765749074744\n",
      "epoch 16  :  0.1184717189252012\n",
      "epoch 17  :  0.11830979513791794\n",
      "epoch 18  :  0.11815149193078156\n",
      "epoch 19  :  0.11799663021325038\n",
      "epoch 20  :  0.11784512072414853\n",
      "epoch 21  :  0.11769690522686\n",
      "epoch 22  :  0.11755193036372927\n",
      "epoch 23  :  0.11741013728002965\n",
      "epoch 24  :  0.11727145862624463\n",
      "epoch 25  :  0.11713581881170157\n"
     ]
    }
   ],
   "source": [
    "lr = 0.001\n",
    "gamma = 0.0001\n",
    "loss_momentum = []\n",
    "prev_grads = np.zeros(9)\n",
    "W_momentum = copy.deepcopy(W)\n",
    "for i in range(25):\n",
    "    #print(prev_grads)\n",
    "    for data_point in data:\n",
    "        forward_prop = forward_propagation(data_point[0:5],data_point[-1],W_momentum)\n",
    "        backward_prop = backward_propagation(data_point[0:5],W_momentum,forward_prop)\n",
    "        \n",
    "        grads=np.array(list(backward_prop.values()))\n",
    "        v = (gamma*prev_grads)+(lr*grads)\n",
    "        prev_grads=grads\n",
    "\n",
    "        W_momentum=W_momentum-v\n",
    "        \n",
    "    print('epoch',i+1,' : ',forward_prop['loss'])\n",
    "    loss_momentum.append(forward_prop['loss'])"
   ]
  },
  {
   "cell_type": "markdown",
   "metadata": {
    "id": "Ow20azfKlVhn"
   },
   "source": [
    "<font color='blue'>Plot between epochs and loss</font>"
   ]
  },
  {
   "cell_type": "code",
   "execution_count": 83,
   "metadata": {
    "id": "u-m90Sq_Ghce"
   },
   "outputs": [
    {
     "data": {
      "text/plain": [
       "Text(0, 0.5, 'loss')"
      ]
     },
     "execution_count": 83,
     "metadata": {},
     "output_type": "execute_result"
    },
    {
     "data": {
      "image/png": "[encoded data removed]",
      "text/plain": [
       "<Figure size 432x288 with 1 Axes>"
      ]
     },
     "metadata": {
      "needs_background": "light"
     },
     "output_type": "display_data"
    }
   ],
   "source": [
    "epochs = list(range(25))\n",
    "plt.plot(epochs,loss_momentum)\n",
    "plt.title('Epochs vs momentum update loss')\n",
    "plt.xlabel('epochs')\n",
    "plt.ylabel('loss')"
   ]
  },
  {
   "cell_type": "markdown",
   "metadata": {
    "id": "V4RWWrZ7lWap"
   },
   "source": [
    "###<font color='blue'>Algorithm with Adam update of weights</font>"
   ]
  },
  {
   "cell_type": "code",
   "execution_count": 84,
   "metadata": {},
   "outputs": [
    {
     "data": {
      "text/plain": [
       "array([ 9, 25,  9, 36], dtype=int32)"
      ]
     },
     "execution_count": 84,
     "metadata": {},
     "output_type": "execute_result"
    }
   ],
   "source": [
    "np.square(np.array([3,5,3,6]))"
   ]
  },
  {
   "cell_type": "code",
   "execution_count": 85,
   "metadata": {},
   "outputs": [
    {
     "data": {
      "text/plain": [
       "array([-1.40486443, -1.63909279,  1.14880029, -0.94836281,  1.48730153,\n",
       "       -0.09740247, -0.38289065,  1.25134086,  1.39314133])"
      ]
     },
     "execution_count": 85,
     "metadata": {},
     "output_type": "execute_result"
    }
   ],
   "source": [
    "W"
   ]
  },
  {
   "cell_type": "code",
   "execution_count": 86,
   "metadata": {},
   "outputs": [
    {
     "name": "stdout",
     "output_type": "stream",
     "text": [
      "epoch 1 :  0.17039195910246677\n",
      "epoch 2 :  0.13043462483770182\n",
      "epoch 3 :  0.10213387703734983\n",
      "epoch 4 :  0.0864583225136281\n",
      "epoch 5 :  0.07294324770702923\n",
      "epoch 6 :  0.06305274714984833\n",
      "epoch 7 :  0.05890957478967018\n",
      "epoch 8 :  0.054776513096866916\n",
      "epoch 9 :  0.052096768766048615\n",
      "epoch 10 :  0.04983768096461441\n",
      "epoch 11 :  0.04964074870491672\n",
      "epoch 12 :  0.04918516873290872\n",
      "epoch 13 :  0.04791282138490185\n",
      "epoch 14 :  0.047721242953018245\n",
      "epoch 15 :  0.04760100088351335\n",
      "epoch 16 :  0.04631636699430616\n",
      "epoch 17 :  0.04524975613198673\n",
      "epoch 18 :  0.04310836461656826\n",
      "epoch 19 :  0.040681899524847194\n",
      "epoch 20 :  0.038822352421267525\n",
      "epoch 21 :  0.03594259647217289\n",
      "epoch 22 :  0.03361698184710717\n",
      "epoch 23 :  0.031080960755051738\n",
      "epoch 24 :  0.02997864167707287\n",
      "epoch 25 :  0.028107994354954\n"
     ]
    }
   ],
   "source": [
    "learn_rate = 0.001\n",
    "beta1 = 0.9\n",
    "beta2 = 0.99  #typical values \n",
    "eps = 1e-8\n",
    "prev_grads = np.zeros(9)\n",
    "prev_grad_sq = np.zeros(9)\n",
    "W_adam = copy.deepcopy(W)\n",
    "loss_adam = []\n",
    "for i in range(25):\n",
    "    \n",
    "    for data_point in data:\n",
    "        forward_prop = forward_propagation(data_point[0:5],data_point[-1],W_adam)\n",
    "        backward_prop = backward_propagation(data_point[0:5],W_adam,forward_prop)\n",
    "\n",
    "        #keys = list(backward_prop.keys())\n",
    "        #print(backward_prop.keys())\n",
    "        \n",
    "        grads=np.array(list(backward_prop.values()))  #grads after back-prop\n",
    "            \n",
    "        m = beta1*prev_grads+((1-beta1)*grads)  #1st order eda\n",
    "        v = (beta2*prev_grad_sq)+((1-beta2)*np.square(grads))  #2nd order eda\n",
    "        prev_grads = grads\n",
    "        prev_grad_sq = np.square(grads)\n",
    "        \n",
    "        W_adam = W_adam - ((learn_rate*m)/(np.sqrt(v)+eps))  #simplified update of eda\n",
    "    loss_adam.append(forward_prop['loss'])\n",
    "    print('epoch',i+1,': ',forward_prop['loss'])"
   ]
  },
  {
   "cell_type": "markdown",
   "metadata": {
    "id": "MMy0nBw-lXml"
   },
   "source": [
    "<font color='blue'>Plot between epochs and loss</font>"
   ]
  },
  {
   "cell_type": "code",
   "execution_count": 87,
   "metadata": {
    "id": "aiFRk_uFlm2V",
    "scrolled": true
   },
   "outputs": [
    {
     "data": {
      "text/plain": [
       "Text(0, 0.5, 'loss')"
      ]
     },
     "execution_count": 87,
     "metadata": {},
     "output_type": "execute_result"
    },
    {
     "data": {
      "image/png": "[encoded data removed]",
      "text/plain": [
       "<Figure size 432x288 with 1 Axes>"
      ]
     },
     "metadata": {
      "needs_background": "light"
     },
     "output_type": "display_data"
    }
   ],
   "source": [
    "epochs = list(range(25))\n",
    "plt.plot(epochs,loss_adam)\n",
    "plt.title('Epochs vs adam update loss')\n",
    "plt.xlabel('epochs')\n",
    "plt.ylabel('loss')\n"
   ]
  },
  {
   "cell_type": "markdown",
   "metadata": {},
   "source": [
    "<font color='blue'>Algorithm with Adam(bias corrected) update of weights</font>"
   ]
  },
  {
   "cell_type": "code",
   "execution_count": 88,
   "metadata": {},
   "outputs": [
    {
     "name": "stdout",
     "output_type": "stream",
     "text": [
      "epoch 1 :  0.18255213534977965\n",
      "epoch 2 :  0.1383322315939002\n",
      "epoch 3 :  0.10940619547376837\n",
      "epoch 4 :  0.0904308616200565\n",
      "epoch 5 :  0.07488675146810947\n",
      "epoch 6 :  0.06417067778365483\n",
      "epoch 7 :  0.05976759887731309\n",
      "epoch 8 :  0.05493972591509816\n",
      "epoch 9 :  0.052420424808644\n",
      "epoch 10 :  0.049846775842107394\n",
      "epoch 11 :  0.0492110053187768\n",
      "epoch 12 :  0.04846083845630589\n",
      "epoch 13 :  0.047273953890181186\n",
      "epoch 14 :  0.04740949676795342\n",
      "epoch 15 :  0.04740523110072882\n",
      "epoch 16 :  0.04590459762137854\n",
      "epoch 17 :  0.04436101884448859\n",
      "epoch 18 :  0.042094866306981116\n",
      "epoch 19 :  0.04036095226492724\n",
      "epoch 20 :  0.03765376945554113\n",
      "epoch 21 :  0.03590822425298459\n",
      "epoch 22 :  0.03319005784692498\n",
      "epoch 23 :  0.030787082526747195\n",
      "epoch 24 :  0.02933000473417941\n",
      "epoch 25 :  0.02834811240897836\n"
     ]
    }
   ],
   "source": [
    "learn_rate = 0.001\n",
    "beta1 = 0.9\n",
    "beta2 = 0.99\n",
    "eps = 1e-8\n",
    "prev_grads = np.zeros(9)\n",
    "prev_grad_sq = np.zeros(9)\n",
    "W_adam_bias_corrected = copy.deepcopy(W)\n",
    "loss_adam_bias_corrected = []\n",
    "t = 1\n",
    "for i in range(25):\n",
    "    \n",
    "    for data_point in data:\n",
    "        forward_prop = forward_propagation(data_point[0:5],data_point[-1],W_adam_bias_corrected)\n",
    "        backward_prop = backward_propagation(data_point[0:5],W_adam_bias_corrected,forward_prop)\n",
    "\n",
    "        #keys = list(backward_prop.keys())\n",
    "        #print(backward_prop.keys())\n",
    "        \n",
    "        grads=np.array(list(backward_prop.values()))  #grads after back-prop\n",
    "            \n",
    "        m = beta1*prev_grads+((1-beta1)*grads)  #1st order eda\n",
    "        mt = m/(1-beta1**t) #bias crrection of 1st order\n",
    "        v = (beta2*prev_grad_sq)+((1-beta2)*np.square(grads))  #2nd order eda\n",
    "        vt = v/(1-beta2**t)\n",
    "        prev_grads = grads   #bias correction of 2nd order\n",
    "        prev_grad_sq = np.square(grads)\n",
    "        t+=1\n",
    "        \n",
    "        W_adam_bias_corrected = W_adam_bias_corrected - ((learn_rate*mt)/(np.sqrt(vt)+eps))  #bias corrected update\n",
    "    loss_adam_bias_corrected.append(forward_prop['loss'])\n",
    "    print('epoch',i+1,': ',forward_prop['loss'])"
   ]
  },
  {
   "cell_type": "markdown",
   "metadata": {
    "id": "7627cy8YlnYO"
   },
   "source": [
    "<font color='blue'>Comparision plot between epochs and loss with different optimizers</font>"
   ]
  },
  {
   "cell_type": "code",
   "execution_count": 89,
   "metadata": {
    "scrolled": true
   },
   "outputs": [],
   "source": [
    "#vanilla_loss"
   ]
  },
  {
   "cell_type": "code",
   "execution_count": 90,
   "metadata": {},
   "outputs": [],
   "source": [
    "#loss_momentum"
   ]
  },
  {
   "cell_type": "code",
   "execution_count": 91,
   "metadata": {},
   "outputs": [],
   "source": [
    "#loss_adam"
   ]
  },
  {
   "cell_type": "code",
   "execution_count": 92,
   "metadata": {
    "id": "scleSfIXl_bC"
   },
   "outputs": [
    {
     "data": {
      "text/plain": [
       "<matplotlib.legend.Legend at 0x1be98cbce50>"
      ]
     },
     "execution_count": 92,
     "metadata": {},
     "output_type": "execute_result"
    },
    {
     "data": {
      "image/png": "[encoded data removed]",
      "text/plain": [
       "<Figure size 432x288 with 1 Axes>"
      ]
     },
     "metadata": {
      "needs_background": "light"
     },
     "output_type": "display_data"
    }
   ],
   "source": [
    "x_axis = list(range(25))\n",
    "plt.plot(x_axis,loss_vanilla,label='vanilla')\n",
    "plt.plot(x_axis,loss_momentum,label='momentum')\n",
    "plt.plot(x_axis,loss_adam,label='adam')\n",
    "plt.plot(x_axis,loss_adam_bias_corrected1,label='adam bias corrected')\n",
    "plt.xlabel('epochs')\n",
    "plt.ylabel('loss')\n",
    "plt.title(' epochs vs loss')\n",
    "plt.legend()"
   ]
  },
  {
   "cell_type": "code",
   "execution_count": 93,
   "metadata": {
    "id": "lfXSaOP8rjBY"
   },
   "outputs": [
    {
     "data": {
      "text/plain": [
       "array([-1.40486443, -1.63909279,  1.14880029, -0.94836281,  1.48730153,\n",
       "       -0.09740247, -0.38289065,  1.25134086,  1.39314133])"
      ]
     },
     "execution_count": 93,
     "metadata": {},
     "output_type": "execute_result"
    }
   ],
   "source": [
    "W"
   ]
  },
  {
   "cell_type": "code",
   "execution_count": null,
   "metadata": {},
   "outputs": [],
   "source": []
  }
 ],
 "metadata": {
  "colab": {
   "collapsed_sections": [],
   "name": "Backpropagation_assignment.ipynb",
   "provenance": []
  },
  "kernelspec": {
   "display_name": "Python 3",
   "language": "python",
   "name": "python3"
  },
  "language_info": {
   "codemirror_mode": {
    "name": "ipython",
    "version": 3
   },
   "file_extension": ".py",
   "mimetype": "text/x-python",
   "name": "python",
   "nbconvert_exporter": "python",
   "pygments_lexer": "ipython3",
   "version": "3.8.8"
  }
 },
 "nbformat": 4,
 "nbformat_minor": 1
}
